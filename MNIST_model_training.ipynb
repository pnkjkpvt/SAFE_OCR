{
  "nbformat": 4,
  "nbformat_minor": 0,
  "metadata": {
    "colab": {
      "name": "MNIST model training",
      "provenance": [],
      "collapsed_sections": [],
      "mount_file_id": "1JP1qjH9J2wFv8ejnULlDwxRluvgh5KLs",
      "authorship_tag": "ABX9TyP9kxVFJu3LXcIFbs0DWJeA",
      "include_colab_link": true
    },
    "kernelspec": {
      "name": "python3",
      "display_name": "Python 3"
    },
    "accelerator": "GPU"
  },
  "cells": [
    {
      "cell_type": "markdown",
      "metadata": {
        "id": "view-in-github",
        "colab_type": "text"
      },
      "source": [
        "<a href=\"https://colab.research.google.com/github/pnkjkpvt/SAFE_OCR/blob/master/MNIST_model_training.ipynb\" target=\"_parent\"><img src=\"https://colab.research.google.com/assets/colab-badge.svg\" alt=\"Open In Colab\"/></a>"
      ]
    },
    {
      "cell_type": "code",
      "metadata": {
        "id": "kWpSpM82mJPA",
        "colab_type": "code",
        "colab": {
          "base_uri": "https://localhost:8080/",
          "height": 85
        },
        "outputId": "c94d168a-79a8-4f60-bb84-8ec47d8cae05"
      },
      "source": [
        "!pip install pyyaml h5py  # Required to save models in HDF5 format\n"
      ],
      "execution_count": 1,
      "outputs": [
        {
          "output_type": "stream",
          "text": [
            "Requirement already satisfied: pyyaml in /usr/local/lib/python3.6/dist-packages (3.13)\n",
            "Requirement already satisfied: h5py in /usr/local/lib/python3.6/dist-packages (2.10.0)\n",
            "Requirement already satisfied: six in /usr/local/lib/python3.6/dist-packages (from h5py) (1.12.0)\n",
            "Requirement already satisfied: numpy>=1.7 in /usr/local/lib/python3.6/dist-packages (from h5py) (1.18.5)\n"
          ],
          "name": "stdout"
        }
      ]
    },
    {
      "cell_type": "code",
      "metadata": {
        "id": "u907g332wa9F",
        "colab_type": "code",
        "colab": {
          "base_uri": "https://localhost:8080/",
          "height": 122
        },
        "outputId": "a80b5a20-5eda-4ae5-b17b-87848dd94897"
      },
      "source": [
        "from google.colab import drive\n",
        "drive.mount('/content/gdrive')"
      ],
      "execution_count": 2,
      "outputs": [
        {
          "output_type": "stream",
          "text": [
            "Go to this URL in a browser: https://accounts.google.com/o/oauth2/auth?client_id=947318989803-6bn6qk8qdgf4n4g3pfee6491hc0brc4i.apps.googleusercontent.com&redirect_uri=urn%3aietf%3awg%3aoauth%3a2.0%3aoob&response_type=code&scope=email%20https%3a%2f%2fwww.googleapis.com%2fauth%2fdocs.test%20https%3a%2f%2fwww.googleapis.com%2fauth%2fdrive%20https%3a%2f%2fwww.googleapis.com%2fauth%2fdrive.photos.readonly%20https%3a%2f%2fwww.googleapis.com%2fauth%2fpeopleapi.readonly\n",
            "\n",
            "Enter your authorization code:\n",
            "··········\n",
            "Mounted at /content/gdrive\n"
          ],
          "name": "stdout"
        }
      ]
    },
    {
      "cell_type": "code",
      "metadata": {
        "id": "770-HTFTxU0I",
        "colab_type": "code",
        "colab": {
          "base_uri": "https://localhost:8080/",
          "height": 34
        },
        "outputId": "18a12848-0127-488e-de62-58fdb3d7b775"
      },
      "source": [
        "!ls /content/gdrive"
      ],
      "execution_count": 3,
      "outputs": [
        {
          "output_type": "stream",
          "text": [
            "'My Drive'\n"
          ],
          "name": "stdout"
        }
      ]
    },
    {
      "cell_type": "code",
      "metadata": {
        "id": "J6KBL0wgmKuK",
        "colab_type": "code",
        "colab": {}
      },
      "source": [
        "import os"
      ],
      "execution_count": 4,
      "outputs": []
    },
    {
      "cell_type": "code",
      "metadata": {
        "id": "3ygxmqpOz7Lv",
        "colab_type": "code",
        "colab": {}
      },
      "source": [
        "!mkdir /content/gdrive/'My Drive'/SAFE_OCR/models/MNIST_Model"
      ],
      "execution_count": 5,
      "outputs": []
    },
    {
      "cell_type": "code",
      "metadata": {
        "id": "vi3nHVewRnvh",
        "colab_type": "code",
        "colab": {
          "base_uri": "https://localhost:8080/",
          "height": 34
        },
        "outputId": "42c6c89d-f844-4190-e163-74ee879672f4"
      },
      "source": [
        "import os\n",
        "\n",
        "import torch\n",
        "\n",
        "from __future__ import print_function\n",
        "import keras\n",
        "from keras.datasets import mnist\n",
        "from keras.models import Sequential\n",
        "from keras.layers import Dense, Dropout, Flatten\n",
        "from keras.layers import Conv2D, MaxPooling2D\n",
        "from keras import backend as K\n",
        "\n",
        "\n",
        "from google.colab.patches import cv2_imshow\n"
      ],
      "execution_count": 6,
      "outputs": [
        {
          "output_type": "stream",
          "text": [
            "Using TensorFlow backend.\n"
          ],
          "name": "stderr"
        }
      ]
    },
    {
      "cell_type": "code",
      "metadata": {
        "id": "s5H7H99r403g",
        "colab_type": "code",
        "colab": {}
      },
      "source": [
        "batch_size = 128\n",
        "num_classes = 10\n",
        "epochs = 20\n",
        "\n",
        "# input image dimensions\n",
        "img_rows, img_cols = 28, 28\n",
        "\n",
        "# the data, split between train and test sets\n",
        "(x_train, y_train), (x_test, y_test) = mnist.load_data()\n",
        "\n",
        "cv2_imshow(x_train[0])\n",
        "print(x_train[0])\n",
        "\n",
        "if K.image_data_format() == 'channels_first':\n",
        "    x_train = x_train.reshape(x_train.shape[0], 1, img_rows, img_cols)\n",
        "    x_test = x_test.reshape(x_test.shape[0], 1, img_rows, img_cols)\n",
        "    input_shape = (1, img_rows, img_cols)\n",
        "else:\n",
        "    x_train = x_train.reshape(x_train.shape[0], img_rows, img_cols, 1)\n",
        "    x_test = x_test.reshape(x_test.shape[0], img_rows, img_cols, 1)\n",
        "    input_shape = (img_rows, img_cols, 1)\n",
        "\n",
        "x_train = x_train.astype('float32')\n",
        "x_test = x_test.astype('float32')\n",
        "x_train /= 255\n",
        "x_test /= 255\n",
        "# print('x_train shape:', x_train.shape)\n",
        "# print(x_train.shape[0], 'train samples')\n",
        "# print(x_test.shape[0], 'test samples')\n",
        "\n",
        "# convert class vectors to binary class matrices\n",
        "y_train = keras.utils.to_categorical(y_train, num_classes)\n",
        "y_test = keras.utils.to_categorical(y_test, num_classes)"
      ],
      "execution_count": null,
      "outputs": []
    },
    {
      "cell_type": "code",
      "metadata": {
        "id": "dxZVbiPp4668",
        "colab_type": "code",
        "colab": {}
      },
      "source": [
        "# Define a simple sequential model\n",
        "model = Sequential()\n",
        "model.add(Conv2D(32, kernel_size=(3, 3),\n",
        "                 activation='relu',\n",
        "                 input_shape=input_shape))\n",
        "model.add(Conv2D(64, (3, 3), activation='relu'))\n",
        "model.add(MaxPooling2D(pool_size=(2, 2)))\n",
        "model.add(Dropout(0.25))\n",
        "model.add(Flatten())\n",
        "model.add(Dense(128, activation='relu'))\n",
        "model.add(Dropout(0.5))\n",
        "model.add(Dense(num_classes, activation='softmax'))\n",
        "\n",
        "model.compile(loss=keras.losses.categorical_crossentropy,\n",
        "              optimizer=keras.optimizers.Adadelta(),\n",
        "              metrics=['accuracy'])"
      ],
      "execution_count": 8,
      "outputs": []
    },
    {
      "cell_type": "code",
      "metadata": {
        "id": "eKY1Ic6Z4-Al",
        "colab_type": "code",
        "colab": {
          "base_uri": "https://localhost:8080/",
          "height": 748
        },
        "outputId": "31562a81-0664-48ab-d069-aad7eea50aae"
      },
      "source": [
        "model.fit(x_train, y_train,\n",
        "          batch_size=batch_size,\n",
        "          epochs=epochs,\n",
        "          verbose=1,\n",
        "          validation_data=(x_test, y_test))\n",
        "score = model.evaluate(x_test, y_test, verbose=0)\n",
        "print('Test loss:', score[0])\n",
        "print('Test accuracy:', score[1])"
      ],
      "execution_count": 9,
      "outputs": [
        {
          "output_type": "stream",
          "text": [
            "Train on 60000 samples, validate on 10000 samples\n",
            "Epoch 1/20\n",
            "60000/60000 [==============================] - 12s 199us/step - loss: 0.2710 - accuracy: 0.9152 - val_loss: 0.0587 - val_accuracy: 0.9813\n",
            "Epoch 2/20\n",
            "60000/60000 [==============================] - 5s 79us/step - loss: 0.0887 - accuracy: 0.9742 - val_loss: 0.0394 - val_accuracy: 0.9865\n",
            "Epoch 3/20\n",
            "60000/60000 [==============================] - 5s 81us/step - loss: 0.0641 - accuracy: 0.9808 - val_loss: 0.0367 - val_accuracy: 0.9880\n",
            "Epoch 4/20\n",
            "60000/60000 [==============================] - 5s 80us/step - loss: 0.0537 - accuracy: 0.9843 - val_loss: 0.0327 - val_accuracy: 0.9895\n",
            "Epoch 5/20\n",
            "60000/60000 [==============================] - 5s 79us/step - loss: 0.0456 - accuracy: 0.9867 - val_loss: 0.0291 - val_accuracy: 0.9908\n",
            "Epoch 6/20\n",
            "60000/60000 [==============================] - 5s 79us/step - loss: 0.0403 - accuracy: 0.9878 - val_loss: 0.0328 - val_accuracy: 0.9900\n",
            "Epoch 7/20\n",
            "60000/60000 [==============================] - 5s 79us/step - loss: 0.0376 - accuracy: 0.9890 - val_loss: 0.0303 - val_accuracy: 0.9900\n",
            "Epoch 8/20\n",
            "60000/60000 [==============================] - 5s 79us/step - loss: 0.0352 - accuracy: 0.9889 - val_loss: 0.0292 - val_accuracy: 0.9903\n",
            "Epoch 9/20\n",
            "60000/60000 [==============================] - 5s 79us/step - loss: 0.0301 - accuracy: 0.9909 - val_loss: 0.0304 - val_accuracy: 0.9902\n",
            "Epoch 10/20\n",
            "60000/60000 [==============================] - 5s 79us/step - loss: 0.0309 - accuracy: 0.9908 - val_loss: 0.0290 - val_accuracy: 0.9903\n",
            "Epoch 11/20\n",
            "60000/60000 [==============================] - 5s 79us/step - loss: 0.0284 - accuracy: 0.9913 - val_loss: 0.0292 - val_accuracy: 0.9910\n",
            "Epoch 12/20\n",
            "60000/60000 [==============================] - 5s 79us/step - loss: 0.0266 - accuracy: 0.9917 - val_loss: 0.0259 - val_accuracy: 0.9918\n",
            "Epoch 13/20\n",
            "60000/60000 [==============================] - 5s 79us/step - loss: 0.0244 - accuracy: 0.9923 - val_loss: 0.0271 - val_accuracy: 0.9911\n",
            "Epoch 14/20\n",
            "60000/60000 [==============================] - 5s 82us/step - loss: 0.0233 - accuracy: 0.9930 - val_loss: 0.0254 - val_accuracy: 0.9924\n",
            "Epoch 15/20\n",
            "60000/60000 [==============================] - 5s 82us/step - loss: 0.0223 - accuracy: 0.9930 - val_loss: 0.0256 - val_accuracy: 0.9930\n",
            "Epoch 16/20\n",
            "60000/60000 [==============================] - 5s 79us/step - loss: 0.0214 - accuracy: 0.9933 - val_loss: 0.0284 - val_accuracy: 0.9921\n",
            "Epoch 17/20\n",
            "60000/60000 [==============================] - 5s 79us/step - loss: 0.0210 - accuracy: 0.9933 - val_loss: 0.0286 - val_accuracy: 0.9927\n",
            "Epoch 18/20\n",
            "60000/60000 [==============================] - 5s 79us/step - loss: 0.0221 - accuracy: 0.9931 - val_loss: 0.0299 - val_accuracy: 0.9920\n",
            "Epoch 19/20\n",
            "60000/60000 [==============================] - 5s 79us/step - loss: 0.0188 - accuracy: 0.9941 - val_loss: 0.0271 - val_accuracy: 0.9928\n",
            "Epoch 20/20\n",
            "60000/60000 [==============================] - 5s 79us/step - loss: 0.0190 - accuracy: 0.9940 - val_loss: 0.0287 - val_accuracy: 0.9922\n",
            "Test loss: 0.028703007446681385\n",
            "Test accuracy: 0.9922000169754028\n"
          ],
          "name": "stdout"
        }
      ]
    },
    {
      "cell_type": "markdown",
      "metadata": {
        "id": "bmB9nR-hEjkH",
        "colab_type": "text"
      },
      "source": [
        "---\n",
        "**Saving Model**\n",
        "\n",
        "---\n",
        "\n"
      ]
    },
    {
      "cell_type": "code",
      "metadata": {
        "id": "pL0oT33wEiL-",
        "colab_type": "code",
        "colab": {}
      },
      "source": [
        "from keras.models import model_from_json"
      ],
      "execution_count": 10,
      "outputs": []
    },
    {
      "cell_type": "code",
      "metadata": {
        "id": "EiG35WoX_xYw",
        "colab_type": "code",
        "colab": {
          "base_uri": "https://localhost:8080/",
          "height": 34
        },
        "outputId": "5f753e10-dfaf-49b8-b62b-8a80a1e0b53a"
      },
      "source": [
        "file_path = F\"/content/gdrive/My Drive/SAFE_OCR/models/MNIST_Model/\"\n",
        "model_json = model.to_json()\n",
        "config_json = str(model.get_config())\n",
        "with open(file_path+\"model.json\", \"w\") as json_file:\n",
        "    json_file.write(model_json)\n",
        "with open(file_path+\"config.json\",\"w\") as json_file:\n",
        "    json_file.write(config_json)\n",
        "# serialize weights to HDF5\n",
        "model.save_weights(file_path+\"model.h5\")\n",
        "\n",
        "print(\"Saved model to disk\")"
      ],
      "execution_count": 16,
      "outputs": [
        {
          "output_type": "stream",
          "text": [
            "Saved model to disk\n"
          ],
          "name": "stdout"
        }
      ]
    },
    {
      "cell_type": "code",
      "metadata": {
        "id": "MnMlfTkoA8DC",
        "colab_type": "code",
        "colab": {
          "base_uri": "https://localhost:8080/",
          "height": 34
        },
        "outputId": "f9ab433b-88f4-45ec-bb5e-ee89db9d4708"
      },
      "source": [
        "##Loading saved models\n",
        "\n",
        "json_file = open(file_path+'model.json', 'r')\n",
        "loaded_model_json = json_file.read()\n",
        "json_file.close()\n",
        "loaded_model = model_from_json(loaded_model_json)\n",
        "# load weights into new model\n",
        "loaded_model.load_weights(file_path+\"model.h5\")\n",
        "print(\"Loaded model from disk\")"
      ],
      "execution_count": 17,
      "outputs": [
        {
          "output_type": "stream",
          "text": [
            "Loaded model from disk\n"
          ],
          "name": "stdout"
        }
      ]
    },
    {
      "cell_type": "code",
      "metadata": {
        "id": "zViTcSUKl0Tv",
        "colab_type": "code",
        "colab": {
          "base_uri": "https://localhost:8080/",
          "height": 51
        },
        "outputId": "26a83996-9bbd-4e32-d8c5-a801ddf021f6"
      },
      "source": [
        "# Create a basic model instance\n",
        "loaded_model.compile(loss=keras.losses.categorical_crossentropy,\n",
        "              optimizer=keras.optimizers.Adadelta(),\n",
        "              metrics=['accuracy'])\n",
        "\n",
        "# Evaluate the model\n",
        "score = loaded_model.evaluate(x_test, y_test, verbose=0)\n",
        "print('Test loss:', score[0])\n",
        "print('Test accuracy:', score[1])"
      ],
      "execution_count": 18,
      "outputs": [
        {
          "output_type": "stream",
          "text": [
            "Test loss: 0.028703007446681385\n",
            "Test accuracy: 0.9922000169754028\n"
          ],
          "name": "stdout"
        }
      ]
    }
  ]
}