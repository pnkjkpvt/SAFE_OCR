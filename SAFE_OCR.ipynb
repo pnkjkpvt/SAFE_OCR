{
  "nbformat": 4,
  "nbformat_minor": 0,
  "metadata": {
    "colab": {
      "name": "SAFE_OCR.ipynb",
      "provenance": [],
      "collapsed_sections": [],
      "toc_visible": true,
      "include_colab_link": true
    },
    "kernelspec": {
      "name": "python3",
      "display_name": "Python 3"
    }
  },
  "cells": [
    {
      "cell_type": "markdown",
      "metadata": {
        "id": "view-in-github",
        "colab_type": "text"
      },
      "source": [
        "<a href=\"https://colab.research.google.com/github/pnkjkpvt/SAFE_OCR/blob/master/SAFE_OCR.ipynb\" target=\"_parent\"><img src=\"https://colab.research.google.com/assets/colab-badge.svg\" alt=\"Open In Colab\"/></a>"
      ]
    },
    {
      "cell_type": "markdown",
      "metadata": {
        "id": "jldDRrq86E8p",
        "colab_type": "text"
      },
      "source": [
        "Install necessary modeules"
      ]
    },
    {
      "cell_type": "code",
      "metadata": {
        "id": "RaJRWN8Q6KDq",
        "colab_type": "code",
        "colab": {
          "base_uri": "https://localhost:8080/",
          "height": 289
        },
        "outputId": "5c34430e-3985-4016-aea1-90c6ea286f17"
      },
      "source": [
        "!pip install opencv-python \n",
        "!sudo apt install tesseract-ocr\n",
        "!pip install pytesseract\n",
        "!pip install pyyaml h5py  # Required to save models in HDF5 format"
      ],
      "execution_count": 74,
      "outputs": [
        {
          "output_type": "stream",
          "text": [
            "Requirement already satisfied: opencv-python in /usr/local/lib/python3.6/dist-packages (4.1.2.30)\n",
            "Requirement already satisfied: numpy>=1.11.3 in /usr/local/lib/python3.6/dist-packages (from opencv-python) (1.18.5)\n",
            "Reading package lists... Done\n",
            "Building dependency tree       \n",
            "Reading state information... Done\n",
            "tesseract-ocr is already the newest version (4.00~git2288-10f4998a-2).\n",
            "The following package was automatically installed and is no longer required:\n",
            "  libnvidia-common-440\n",
            "Use 'sudo apt autoremove' to remove it.\n",
            "0 upgraded, 0 newly installed, 0 to remove and 59 not upgraded.\n",
            "Requirement already satisfied: pytesseract in /usr/local/lib/python3.6/dist-packages (0.3.4)\n",
            "Requirement already satisfied: Pillow in /usr/local/lib/python3.6/dist-packages (from pytesseract) (7.0.0)\n",
            "Requirement already satisfied: pyyaml in /usr/local/lib/python3.6/dist-packages (3.13)\n",
            "Requirement already satisfied: h5py in /usr/local/lib/python3.6/dist-packages (2.10.0)\n",
            "Requirement already satisfied: six in /usr/local/lib/python3.6/dist-packages (from h5py) (1.12.0)\n",
            "Requirement already satisfied: numpy>=1.7 in /usr/local/lib/python3.6/dist-packages (from h5py) (1.18.5)\n"
          ],
          "name": "stdout"
        }
      ]
    },
    {
      "cell_type": "markdown",
      "metadata": {
        "id": "qAKoSjMj5qaj",
        "colab_type": "text"
      },
      "source": [
        "Connect to drive"
      ]
    },
    {
      "cell_type": "code",
      "metadata": {
        "id": "uNhvwBI_5p3w",
        "colab_type": "code",
        "colab": {
          "base_uri": "https://localhost:8080/",
          "height": 71
        },
        "outputId": "7e5c6f2f-a9bf-4042-973c-5bae27f0692a"
      },
      "source": [
        "from google.colab import drive\n",
        "drive.mount('/content/gdrive')\n",
        "!ls /content/gdrive"
      ],
      "execution_count": 75,
      "outputs": [
        {
          "output_type": "stream",
          "text": [
            "Drive already mounted at /content/gdrive; to attempt to forcibly remount, call drive.mount(\"/content/gdrive\", force_remount=True).\n",
            "'My Drive'\n"
          ],
          "name": "stdout"
        }
      ]
    },
    {
      "cell_type": "markdown",
      "metadata": {
        "id": "MbNpuBQL7eyC",
        "colab_type": "text"
      },
      "source": [
        "Imports"
      ]
    },
    {
      "cell_type": "code",
      "metadata": {
        "id": "F-Z_uxPy48pc",
        "colab_type": "code",
        "colab": {}
      },
      "source": [
        "import os\n",
        "from os import listdir\n",
        "from os.path import isfile, join\n",
        "\n",
        "import csv\n",
        "import re\n",
        "\n",
        "import cv2\n",
        "from google.colab.patches import cv2_imshow\n",
        "import numpy as np\n",
        "import pytesseract\n"
      ],
      "execution_count": 76,
      "outputs": []
    },
    {
      "cell_type": "markdown",
      "metadata": {
        "id": "MifRdg5y7g1M",
        "colab_type": "text"
      },
      "source": [
        "Setting Constants"
      ]
    },
    {
      "cell_type": "code",
      "metadata": {
        "id": "JVQxM9Dk5NIE",
        "colab_type": "code",
        "colab": {}
      },
      "source": [
        "DATA_PATH = F\"/content/gdrive/My Drive/SAFE_OCR/data/\"\n",
        "FILE_PATH = DATA_PATH+\"images/\"\n",
        "TEMPLATE_FILE = DATA_PATH+\"dashed 1.jpg\"  ## File path to the exam-paper template file\n",
        "MAPPING_FILE = DATA_PATH+\"roll-numbers.csv\"\n",
        "\n",
        "MODEL_PATH = F\"/content/gdrive/My Drive/SAFE_OCR/models/\"\n",
        "\n",
        "LEGAL_FILE_EXTENSION = ['jpg','jpeg','png','JPG','JPEG','PNG']\n",
        "\n",
        "PAGE_SCALE = 0.5"
      ],
      "execution_count": 77,
      "outputs": []
    },
    {
      "cell_type": "markdown",
      "metadata": {
        "id": "b_WK6bj_5Piw",
        "colab_type": "text"
      },
      "source": [
        "Getting Image Files"
      ]
    },
    {
      "cell_type": "code",
      "metadata": {
        "id": "i1c4xFpS5O3e",
        "colab_type": "code",
        "colab": {}
      },
      "source": [
        "## Here we're hardcoding the approximate location of Name and Roll_no fields.\n",
        "## TODO identify these regions automatically\n",
        "name_box = [386, 36, 1230, 172]    #Box parameters for Name field\n",
        "roll_box = [1400, 32, 2010, 166]    #Box parameters for Roll_no filed\n",
        "\n",
        "\n",
        "files = [FILE_PATH + f for f in listdir(FILE_PATH) if isfile(join(FILE_PATH, f))]\n"
      ],
      "execution_count": 78,
      "outputs": []
    },
    {
      "cell_type": "markdown",
      "metadata": {
        "id": "ZpJ1RQO6AJt-",
        "colab_type": "text"
      },
      "source": [
        "Defining Useful functions"
      ]
    },
    {
      "cell_type": "code",
      "metadata": {
        "id": "E0SHjWAIAOwJ",
        "colab_type": "code",
        "colab": {}
      },
      "source": [
        "def to_grayscale(image):\n",
        "    # image = cv2.convertScaleAbs(image, alpha=1, beta=0)\n",
        "    image = cv2.cvtColor(image, cv2.COLOR_BGR2GRAY)\n",
        "    return image"
      ],
      "execution_count": 79,
      "outputs": []
    },
    {
      "cell_type": "code",
      "metadata": {
        "id": "DmRtBKGhF5Lw",
        "colab_type": "code",
        "colab": {}
      },
      "source": [
        "def to_binary_image(image, inverted=False):\n",
        "    # Source : https://docs.opencv.org/master/d7/d4d/tutorial_py_thresholding.html\n",
        "    gray = to_grayscale(image)\n",
        "\n",
        "    if (inverted):\n",
        "        image = cv2.threshold(gray, 150, 255, cv2.THRESH_BINARY_INV)[1]  \n",
        "    else:\n",
        "        image = cv2.threshold(gray, 150, 255, cv2.THRESH_BINARY)[1]\n",
        "        # image = cv2.adaptiveThreshold(image,255,cv2.ADAPTIVE_THRESH_GAUSSIAN_C, cv2.THRESH_BINARY,27,2)\n",
        "\n",
        "    return image"
      ],
      "execution_count": 80,
      "outputs": []
    },
    {
      "cell_type": "code",
      "metadata": {
        "id": "1ZOlEWoRF6q_",
        "colab_type": "code",
        "colab": {}
      },
      "source": [
        "## Post-processing step on OCR output\n",
        "def clean_roll_number(rollno):\n",
        "    # Here there is a need to refine wrong predictions of characters\n",
        "    # Remove spaces from Roll number\n",
        "    rollno = re.sub('\\\\s+', '', rollno)\n",
        "    # 'o' is probably 0\n",
        "    rollno = re.sub('[o,O]', '0', rollno)\n",
        "    # I, i, J, j, l are probably 1\n",
        "    rollno = re.sub('[I,J,l]', '1', rollno)\n",
        "    # S, s is probably 5 or 8\n",
        "    rollno = re.sub('[s,S]', '5', rollno)\n",
        "    # q is probably 9\n",
        "    rollno = re.sub('[q]', '9', rollno)\n",
        "    # b is probably 6\n",
        "    rollno = re.sub('[b]', '6', rollno)\n",
        "    # Neglect all special character\n",
        "    rollno = rollno.upper()\n",
        "    rollno = re.sub('[^A-Z,0-9]', '', rollno)\n",
        "    return rollno"
      ],
      "execution_count": 81,
      "outputs": []
    },
    {
      "cell_type": "code",
      "metadata": {
        "id": "Dm9JwSKdF9Od",
        "colab_type": "code",
        "colab": {}
      },
      "source": [
        "##Longest common subsequence\n",
        "def lcs(X, Y):\n",
        "    # find the length of the strings\n",
        "    m = len(X)\n",
        "    n = len(Y)\n",
        "\n",
        "    # declaring the array for storing the dp values\n",
        "    L = [[None] * (n + 1) for i in range(m + 1)]\n",
        "\n",
        "    \"\"\"Following steps build L[m + 1][n + 1] in bottom up fashion \n",
        "    Note: L[i][j] contains length of LCS of X[0..i-1] \n",
        "    and Y[0..j-1]\"\"\"\n",
        "    for i in range(m + 1):\n",
        "        for j in range(n + 1):\n",
        "            if i == 0 or j == 0:\n",
        "                L[i][j] = 0\n",
        "            elif X[i - 1] == Y[j - 1]:\n",
        "                L[i][j] = L[i - 1][j - 1] + 1\n",
        "            else:\n",
        "                L[i][j] = max(L[i - 1][j], L[i][j - 1])\n",
        "\n",
        "                # L[m][n] contains the length of LCS of X[0..n-1] & Y[0..m-1]\n",
        "    return L[m][n]"
      ],
      "execution_count": 82,
      "outputs": []
    },
    {
      "cell_type": "code",
      "metadata": {
        "id": "s_gYwVqmMiOO",
        "colab_type": "code",
        "colab": {}
      },
      "source": [
        "## Edit Distance\n",
        "# An adaptation of @ https://www.geeksforgeeks.org/edit-distance-dp-5/\n",
        "def editDist(str1, str2):\n",
        "    len1 = len(str1)\n",
        "    len2 = len(str2)\n",
        "    # Create a table to store results of subproblems\n",
        "    dp = [[0 for x in range(len2 + 1)] for x in range(len1 + 1)]\n",
        "    # Fill d[][] in bottom up manner\n",
        "    for i in range(len1 + 1):\n",
        "        for j in range(len2 + 1):\n",
        "\n",
        "            # If first string is empty, only option is to insert all characters of second string\n",
        "            if i == 0:\n",
        "                dp[i][j] = j  # Min. operations = j\n",
        "\n",
        "            # If second string is empty, only option is to remove all characters of second string\n",
        "            elif j == 0:\n",
        "                dp[i][j] = i  # Min. operations = i\n",
        "\n",
        "            # If last characters are same, ignore last char and recur for remaining string\n",
        "            elif str1[i - 1] == str2[j - 1]:\n",
        "                dp[i][j] = dp[i - 1][j - 1]\n",
        "\n",
        "            # If last character are different, consider all possibilities and find minimum\n",
        "            else:\n",
        "                dp[i][j] = 1 + min(dp[i][j - 1],  # Insert\n",
        "                                   dp[i - 1][j],  # Remove\n",
        "                                   dp[i - 1][j - 1])  # Replace\n",
        "\n",
        "    return dp[len1][len2]\n"
      ],
      "execution_count": 83,
      "outputs": []
    },
    {
      "cell_type": "code",
      "metadata": {
        "id": "o32ksoyRGAch",
        "colab_type": "code",
        "colab": {}
      },
      "source": [
        "## Function to find best matching record from database against given input\n",
        "\"\"\"Param : algorithm = 'ed' or 'lcs'\n",
        "              \n",
        "\"\"\"\n",
        "\n",
        "def find_record(name, roll, algorithm='ed'): \n",
        "    found_record = []\n",
        "    max_sim_score = 0    \n",
        "    least_dist = 100\n",
        "    with open(MAPPING_FILE, 'r') as mapping_file:\n",
        "        record_list = list(csv.reader(mapping_file, delimiter=','))\n",
        "\n",
        "        # Iterate over the list\n",
        "        for record in record_list[1:]:  # TODO- First the program should check if there is no record in row 1, and only then snip it.\n",
        "            name_record = record[1]     # TODO - get rid of numerical indices. Actual indices of 'Name' or 'roll_no' column may be different\n",
        "            roll_record = record[2]\n",
        "            if (name != '' or roll != '') and (name_record != '' and roll_record != ''):\n",
        "\n",
        "                if (algorithm == 'lcs'):    # if LCS algorithm is chosen\n",
        "                    sim_score = lcs(name + roll, name_record + roll_record)\n",
        "                    # sim_score = sim_score/len(name_record)\n",
        "                    if sim_score > max_sim_score:  # then the current record is more similar\n",
        "                        max_sim_score = sim_score\n",
        "                        found_record = [record[1:3]]  # TODO - get rid of constant indices.\n",
        "                    elif sim_score == max_sim_score:\n",
        "                        found_record.append(record[1:3])  # TODO - get rid of constant indices.\n",
        "\n",
        "                elif (algorithm =='ed'):      # if Edit Distance algorithm is chosen\n",
        "                    dist = editDist(name + roll, name_record + roll_record)\n",
        "                    if least_dist > dist: # then the current record is more similar\n",
        "                        least_dist = dist\n",
        "                        found_record = [record[1:3]]  # TODO - get rid of constant indices.\n",
        "                    elif least_dist == dist:\n",
        "                        found_record.append(record[1:3])  # TODO - get rid of constant indices.\n",
        "\n",
        "    # print(found_record)\n",
        "    return found_record"
      ],
      "execution_count": 84,
      "outputs": []
    },
    {
      "cell_type": "markdown",
      "metadata": {
        "id": "YKB_lfpEU-5S",
        "colab_type": "text"
      },
      "source": [
        "Character Segmentation by identifying rectangular boxes in the image"
      ]
    },
    {
      "cell_type": "code",
      "metadata": {
        "id": "YQPpQydIOi6C",
        "colab_type": "code",
        "colab": {}
      },
      "source": [
        "# Finding Contours of the image\n",
        "def get_contours(img):\n",
        "    # converting to gray scale binary. \n",
        "    threshold = to_binary_image(img)\n",
        "\n",
        "    # Detecting contours \n",
        "    contours,_=cv2.findContours(threshold, cv2.RETR_TREE, cv2.CHAIN_APPROX_SIMPLE)\n",
        "\n",
        "    return contours"
      ],
      "execution_count": 85,
      "outputs": []
    },
    {
      "cell_type": "code",
      "metadata": {
        "id": "fu2mgnl3yan3",
        "colab_type": "code",
        "colab": {}
      },
      "source": [
        "# Python code to detect a rectangle from an image. \n",
        "\"\"\"Adapted from \n",
        "https://www.geeksforgeeks.org/python-detect-polygons-in-an-image-using-opencv/\n",
        "https://opencv-python-tutroals.readthedocs.io/en/latest/py_tutorials/py_imgproc/py_contours/py_contour_features/py_contour_features.html\n",
        "\"\"\"\n",
        "\n",
        "def segment_characters (img2):\n",
        "    contours = get_contours(img2)\n",
        "    \n",
        "    # Data structure to save rectangle boundaries\n",
        "    boundaries = {}\n",
        "\n",
        "    # To stop same rectangle to be recorded twice\n",
        "    control_median = -1000\n",
        "\n",
        "    # To select the smallest bounding box for a given character\n",
        "    contorl_area = 100000\n",
        "\n",
        "    # Searching through every region selected.\n",
        "    for cnt in contours : \n",
        "        area = cv2.contourArea(cnt) \n",
        "      \n",
        "        # Shortlisting the regions based on there area. \n",
        "        # TODO : Proper finetuning is required as per the page sizes\n",
        "        if area > 800 and area < 10000:       \n",
        "\n",
        "            bounds = cv2.boundingRect(cnt)\n",
        "            [x,y,w,h] = bounds\n",
        "            x_median = x + w/2      ## TODO : Medians of two adjecent boxes can't be very close. Handle this corner case\n",
        "\n",
        "            ## Save coordinates in proper data structure so that they can be sorted and be used for cropping digits\n",
        "            if (abs(control_median - x_median) > w/2):  # If two boxes are appropriatelt apart.            \n",
        "                control_median = x_median\n",
        "                control_area = area\n",
        "                boundaries[x_median] = bounds\n",
        "            \n",
        "            elif (abs(control_median - x_median) < w/4 and area < control_area):    # If two boxes are too close, then choose the smallest one\n",
        "                boundaries[control_median] = bounds\n",
        "\n",
        "            # Color boxes with background color to remove them from image\n",
        "            color = (255,255,255)\n",
        "            img2 = cv2.rectangle(img2,(x,y), (x+w,y+h), color, 4)\n",
        "            # cv2_imshow(img2)\n",
        "\n",
        "    char_boundary = []\n",
        "    for i in sorted(boundaries.keys()):\n",
        "        char_boundary.append(boundaries[i])\n",
        "  \n",
        "    # print (char_boundary)\n",
        "    # cv2_imshow(img2)  \n",
        "    return img2, char_boundary\n"
      ],
      "execution_count": 93,
      "outputs": []
    },
    {
      "cell_type": "markdown",
      "metadata": {
        "id": "9gIPojyqTa9t",
        "colab_type": "text"
      },
      "source": [
        "Localising digits in the box"
      ]
    },
    {
      "cell_type": "code",
      "metadata": {
        "id": "zbp_LcJuTaNL",
        "colab_type": "code",
        "colab": {}
      },
      "source": [
        "def localise_character(box, center_fit):\n",
        "    #Find location of digit in the box\n",
        "        box_arr = np.array(box)\n",
        "\n",
        "        top = 0\n",
        "        for row in box_arr:\n",
        "            if (np.sum(row) >= 255): break            \n",
        "            top = top+1\n",
        "        # print(\"Top :\", top)\n",
        "        \n",
        "        bottom = box_arr.shape[0]\n",
        "        for row in box_arr[::-1]:\n",
        "            if (np.sum(row) >= 255): break            \n",
        "            bottom = bottom-1\n",
        "        # print (\"Bottom :\", bottom)\n",
        "        \n",
        "        left = 0\n",
        "        for row in np.transpose(box_arr):\n",
        "            if (np.sum(row) >= 255): break            \n",
        "            left = left+1\n",
        "        # print (\"Left :\", left)\n",
        "\n",
        "        right = box_arr.shape[1]\n",
        "        for row in np.transpose(box_arr)[::-1]:\n",
        "            if (np.sum(row) >= 255): break            \n",
        "            right = right-1\n",
        "        # print (\"Right :\", right)\n",
        "\n",
        "        LR_mean = int((left+right)/2)\n",
        "        TB_mean = int((top+bottom)/2)\n",
        "\n",
        "        ## Center-fit or not        \n",
        "        box_width = right\n",
        "        offset = int((max(bottom-top, right-left, (1-center_fit)*box_width))/2)\n",
        "\n",
        "        # Ensure an square image\n",
        "        top = max(TB_mean-offset,0)\n",
        "        bottom = top + 2*offset\n",
        "        left = max(LR_mean-offset,0)\n",
        "        right = left + 2*offset\n",
        "\n",
        "        return top, bottom, left, right"
      ],
      "execution_count": 87,
      "outputs": []
    },
    {
      "cell_type": "markdown",
      "metadata": {
        "id": "hw_0jZhjUqGe",
        "colab_type": "text"
      },
      "source": [
        "# Processing images Using trained models\n",
        "\n",
        "Using model trained on MNIST data-set to identify digits in roll number"
      ]
    },
    {
      "cell_type": "code",
      "metadata": {
        "id": "-7_S3SxiU5vx",
        "colab_type": "code",
        "colab": {}
      },
      "source": [
        "import keras\n",
        "from keras.models import model_from_json\n",
        "from keras.models import model_from_config\n",
        "from keras.models import Sequential\n",
        "from keras.layers import Dense, Dropout, Flatten\n",
        "from keras.layers import Conv2D, MaxPooling2D\n",
        "from keras import backend as K\n",
        "\n",
        "\n",
        "##Loading saved models\n",
        "def __load_model(model_dir):\n",
        "    model_file = open(model_dir + 'model.json', 'r')\n",
        "    loaded_model_json = model_file.read()\n",
        "    model_file.close()\n",
        "    loaded_model = model_from_json(loaded_model_json)\n",
        "    # load weights into new model\n",
        "    loaded_model.load_weights(model_dir + \"model.h5\")\n",
        "    print(\"Loaded model from disk\")\n",
        "\n",
        "    # Create a basic model instance\n",
        "    # Model configuration is saved in config.json file\n",
        "\n",
        "    loaded_model.compile(loss=keras.losses.categorical_crossentropy,\n",
        "                  optimizer=keras.optimizers.Adadelta(),\n",
        "              metrics=['accuracy'])\n",
        "    \n",
        "    return loaded_model\n",
        "\n",
        "def load_MNIST_model ():    \n",
        "    return __load_model(MODEL_PATH+'MNIST_Model/')\n",
        "\n",
        "def load_EMNIST_model():\n",
        "    return __load_model(MODEL_PATH+'EMNIST_Model/')"
      ],
      "execution_count": 88,
      "outputs": []
    },
    {
      "cell_type": "markdown",
      "metadata": {
        "id": "GW0A1zjY1IEk",
        "colab_type": "text"
      },
      "source": [
        "Prepare data and feed it to model for prediction"
      ]
    },
    {
      "cell_type": "code",
      "metadata": {
        "id": "--rW0eg-0_Wi",
        "colab_type": "code",
        "colab": {}
      },
      "source": [
        "def process_data_for_model(org_image, contours, center_fit=True, padding=True):\n",
        "    # print(len(contours))\n",
        "\n",
        "    ## For MNIST model we need to invert the image color\n",
        "    image = to_binary_image(org_image, True)\n",
        "    \n",
        "    # image = cv2.erode(image,(5,5))\n",
        "\n",
        "    ## Smoothen the edges\n",
        "    image = cv2.GaussianBlur(image,(3,3),0)\n",
        "    \n",
        "    data_arr = []\n",
        "\n",
        "    ## To display digits side by side\n",
        "    display_image = []\n",
        "\n",
        "    for contour in contours:\n",
        "        [x,y,w,h] = contour\n",
        "\n",
        "        #Remove boundaries\n",
        "        box = image[y+3:y+h-3, x+3:x+w-3] \n",
        "\n",
        "        # No need to process nearly empty boxes\n",
        "        if np.sum(box[5:-5, 5:-5]) < 255*10 :\n",
        "            continue \n",
        "\n",
        "        # box = np.pad(array=box, pad_width= int(w/2), mode='constant', constant_values=0)\n",
        "        top, bottom, left, right = localise_character(box, center_fit)        \n",
        "        box = box[top:bottom, left:right]  \n",
        "        \n",
        "        # Resize to 28x28 image\n",
        "        digit = box\n",
        "        if (padding):\n",
        "            digit = cv2.resize(box, (24,24))  ## reserving 2 pixels on each side for padding         \n",
        "            ## TODO - Before padding, ensure that there are no straight lines in the image.\n",
        "            ## TODO - To keep some gap on all 4 sides, we can pad the image by 2 pixel width on all sides and crop localised characters from that image\n",
        "            digit = np.pad(array=digit, pad_width=2, mode='constant', constant_values=0)    \n",
        "        else:\n",
        "            digit = cv2.resize(box, (28,28\n",
        "                                     ))\n",
        "        ## Cross check the image\n",
        "        # cv2_imshow(digit)\n",
        "        if len(display_image) == 0:\n",
        "            display_image = digit\n",
        "        else:\n",
        "            display_image = np.concatenate((display_image,digit), axis=1)\n",
        "        resized = np.array(digit)\n",
        "        resized = resized.reshape(28,28,1)\n",
        "        data_arr.append(resized)\n",
        "\n",
        "    # print (np.array(data_arr).shape)\n",
        "    cv2_imshow(display_image)\n",
        "    return np.array(data_arr)"
      ],
      "execution_count": 89,
      "outputs": []
    },
    {
      "cell_type": "markdown",
      "metadata": {
        "id": "3T7s5JwV_WcH",
        "colab_type": "text"
      },
      "source": [
        "# Processing Hand written text with OCR and Trained models\n",
        "Using model trained on MNIST dataset improved recognition of digits in roll_no field. However the accuracy is not very good. This can be attributed to the handwritten data obtained from students.. The model's accuracy should improve if the model is trained with these new data over time. There are scope for improvements in character segmentation algorithm used.\n",
        "\n",
        "\n",
        "Tesseract OCR did not perform well for recognising handwritten names. Tweaking config parameters don't seem to improve the accuracy."
      ]
    },
    {
      "cell_type": "code",
      "metadata": {
        "id": "DoVJXV5V_aOW",
        "colab_type": "code",
        "colab": {
          "base_uri": "https://localhost:8080/",
          "height": 1000
        },
        "outputId": "3b1e081c-d556-48dc-84b1-5ab17e96a165"
      },
      "source": [
        "## Load required trained models\n",
        "MNIST_model = load_MNIST_model()\n",
        "EMNIST_model = load_EMNIST_model()\n",
        "\n",
        "## \n",
        "for filename in files:\n",
        "    if (filename.split('.')[1] in LEGAL_FILE_EXTENSION):\n",
        "        ## Load images here\n",
        "        # print('\\n' + filename)\n",
        "        img = cv2.imread(filename)\n",
        "\n",
        "        ##==========================================================\n",
        "        ##    Processing Name and Roll_number section using Tesseract\n",
        "        ##==========================================================\n",
        "        ## Crop name section for faster recognision\n",
        "        ## TODO - Identify Name and roll number regions autmatically\n",
        "        name_img = img[name_box[1]:name_box[3], name_box[0]:name_box[2]]\n",
        "        name_img, _ = segment_characters(name_img)\n",
        "        name_img = to_binary_image(name_img)\n",
        "        cv2_imshow(name_img)\n",
        "        name_text = pytesseract.image_to_string(name_img,\n",
        "                                                config='--psm 10 --oem 3 -c tessedit_char_whitelist=abcdefghijklmnopqrstuvwxyzABCDEFGHIJKLMNOPQRSTUVWXYZ')\n",
        "        print('Name :', name_text)\n",
        "        \n",
        "        \"\"\"Tesseract character whitelisting config doesn't seem to be working for the current version (tesseract 4.0.0-beta.1)\"\"\"\n",
        "\n",
        "        ## Crop roll_number section for faster recognision\n",
        "        # roll_img = img[roll_box[1]:roll_box[3], roll_box[0]:roll_box[2]]\n",
        "        # roll_img = to_binary_image(roll_img)\n",
        "        # cv2_imshow(roll_img)        \n",
        "        # roll_text = pytesseract.image_to_string(roll_img, config='--psm 6')# --oem 3 -c tessedit_char_whitelist=0123456789abcdefghijklmnopqrstuvwxyzABCDEFGHIJKLMNOPQRSTUVWXYZ')\n",
        "        # roll_text = clean_roll_number(roll_text)\n",
        "        # print('Roll no :', roll_text)\n",
        "        ##----------------------------------------------------------\n",
        "\n",
        "\n",
        "\n",
        "        ##==========================================================\n",
        "        ##    Processing Name and Roll_number section using trained models\n",
        "        ##==========================================================\n",
        "        ## Crop name section for faster recognision\n",
        "        ## TODO - Identify Name and roll number regions autmatically\n",
        "        # name_img = img[name_box[1]:name_box[3], name_box[0]:name_box[2]]\n",
        "        # name_img, char_boundary = segment_characters(name_img)\n",
        "\n",
        "        # processed_letters = process_data_for_model(name_img, char_boundary, center_fit=False, padding=True)\n",
        "        # name_text = EMNIST_model.predict_classes(processed_letters)\n",
        "        # # EMNIST model doesn't return a character but a number so it needs to be converted to proper character\n",
        "        # classes = 'ABCDEFGHIJKLMNOPQRSTUVWXYZabdefghnqrt'\n",
        "        # name_text = ''.join([classes[int(elem)-1] for elem in name_text])\n",
        "        # print('Name :', name_text)\n",
        "\n",
        "\n",
        "        roll_img = img[roll_box[1]:roll_box[3], roll_box[0]:roll_box[2]]\n",
        "        roll_img, char_boundary = segment_characters (roll_img)\n",
        "\n",
        "        # cv2_imshow(roll_img[y:y+h, x:x+w])\n",
        "        processed_digits = process_data_for_model(roll_img, char_boundary)\n",
        "        roll_text = MNIST_model.predict_classes(processed_digits)  #This is a list at this time\n",
        "        roll_text = ''.join([str(elem) for elem in roll_text])\n",
        "        print ('Roll_No :',roll_text)\n",
        "        ##----------------------------------------------------------\n",
        "\n",
        "        ## Mathcing with existing records\n",
        "        found_record = find_record(name_text, roll_text)\n",
        "        print(found_record)\n"
      ],
      "execution_count": 95,
      "outputs": [
        {
          "output_type": "stream",
          "text": [
            "Loaded model from disk\n",
            "Loaded model from disk\n"
          ],
          "name": "stdout"
        },
        {
          "output_type": "display_data",
          "data": {
            "image/png": "[encoded data removed]",
            "text/plain": [
              "<PIL.Image.Image image mode=L size=844x136 at 0x7F58F1DFEFD0>"
            ]
          },
          "metadata": {
            "tags": []
          }
        },
        {
          "output_type": "stream",
          "text": [
            "Name : PANKAT KUMAR\n"
          ],
          "name": "stdout"
        },
        {
          "output_type": "display_data",
          "data": {
            "image/png": "[encoded data removed]",
            "text/plain": [
              "<PIL.Image.Image image mode=L size=252x28 at 0x7F58F1E17CC0>"
            ]
          },
          "metadata": {
            "tags": []
          }
        },
        {
          "output_type": "stream",
          "text": [
            "Roll_No : 183050065\n",
            "[['Pankaj Kumar', '193050065']]\n"
          ],
          "name": "stdout"
        },
        {
          "output_type": "display_data",
          "data": {
            "image/png": "[encoded data removed]",
            "text/plain": [
              "<PIL.Image.Image image mode=L size=844x136 at 0x7F58F1C49128>"
            ]
          },
          "metadata": {
            "tags": []
          }
        },
        {
          "output_type": "stream",
          "text": [
            "Name : Pant @j Kumagy\n"
          ],
          "name": "stdout"
        },
        {
          "output_type": "display_data",
          "data": {
            "image/png": "[encoded data removed]",
            "text/plain": [
              "<PIL.Image.Image image mode=L size=252x28 at 0x7F58F1C49048>"
            ]
          },
          "metadata": {
            "tags": []
          }
        },
        {
          "output_type": "stream",
          "text": [
            "Roll_No : 143050065\n",
            "[['Pankaj Kumar', '193050065']]\n"
          ],
          "name": "stdout"
        },
        {
          "output_type": "display_data",
          "data": {
            "image/png": "[encoded data removed]",
            "text/plain": [
              "<PIL.Image.Image image mode=L size=844x136 at 0x7F58F1CA8630>"
            ]
          },
          "metadata": {
            "tags": []
          }
        },
        {
          "output_type": "stream",
          "text": [
            "Name : Pank@jy Ku wah\n"
          ],
          "name": "stdout"
        },
        {
          "output_type": "display_data",
          "data": {
            "image/png": "[encoded data removed]",
            "text/plain": [
              "<PIL.Image.Image image mode=L size=252x28 at 0x7F58F1CA83C8>"
            ]
          },
          "metadata": {
            "tags": []
          }
        },
        {
          "output_type": "stream",
          "text": [
            "Roll_No : 143050065\n",
            "[['Pankaj Kumar', '193050065']]\n"
          ],
          "name": "stdout"
        },
        {
          "output_type": "display_data",
          "data": {
            "image/png": "[encoded data removed]",
            "text/plain": [
              "<PIL.Image.Image image mode=L size=844x136 at 0x7F58F1C496A0>"
            ]
          },
          "metadata": {
            "tags": []
          }
        },
        {
          "output_type": "stream",
          "text": [
            "Name : Aven aSpnh Kuma te\n"
          ],
          "name": "stdout"
        },
        {
          "output_type": "display_data",
          "data": {
            "image/png": "[encoded data removed]",
            "text/plain": [
              "<PIL.Image.Image image mode=L size=252x28 at 0x7F58F1C492E8>"
            ]
          },
          "metadata": {
            "tags": []
          }
        },
        {
          "output_type": "stream",
          "text": [
            "Roll_No : 123458767\n",
            "[['Avinsah Kumar', '123456789']]\n"
          ],
          "name": "stdout"
        },
        {
          "output_type": "display_data",
          "data": {
            "image/png": "[encoded data removed]",
            "text/plain": [
              "<PIL.Image.Image image mode=L size=844x136 at 0x7F58F1CBA9E8>"
            ]
          },
          "metadata": {
            "tags": []
          }
        },
        {
          "output_type": "stream",
          "text": [
            "Name : ARVrcNAsd «UMAR\n"
          ],
          "name": "stdout"
        },
        {
          "output_type": "display_data",
          "data": {
            "image/png": "[encoded data removed]",
            "text/plain": [
              "<PIL.Image.Image image mode=L size=252x28 at 0x7F58F1C5B7B8>"
            ]
          },
          "metadata": {
            "tags": []
          }
        },
        {
          "output_type": "stream",
          "text": [
            "Roll_No : 123456286\n",
            "[['Avinsah Kumar', '123456789']]\n"
          ],
          "name": "stdout"
        },
        {
          "output_type": "display_data",
          "data": {
            "image/png": "[encoded data removed]",
            "text/plain": [
              "<PIL.Image.Image image mode=L size=844x136 at 0x7F58F1C5B518>"
            ]
          },
          "metadata": {
            "tags": []
          }
        },
        {
          "output_type": "stream",
          "text": [
            "Name : PANKAJZT kKUMAR\n"
          ],
          "name": "stdout"
        },
        {
          "output_type": "display_data",
          "data": {
            "image/png": "[encoded data removed]",
            "text/plain": [
              "<PIL.Image.Image image mode=L size=252x28 at 0x7F58F1C5B518>"
            ]
          },
          "metadata": {
            "tags": []
          }
        },
        {
          "output_type": "stream",
          "text": [
            "Roll_No : 143050065\n",
            "[['Pankaj Kumar', '193050065']]\n"
          ],
          "name": "stdout"
        },
        {
          "output_type": "display_data",
          "data": {
            "image/png": "[encoded data removed]",
            "text/plain": [
              "<PIL.Image.Image image mode=L size=844x136 at 0x7F58F1C5B438>"
            ]
          },
          "metadata": {
            "tags": []
          }
        },
        {
          "output_type": "stream",
          "text": [
            "Name : PANKAJ KUMAR\n"
          ],
          "name": "stdout"
        },
        {
          "output_type": "display_data",
          "data": {
            "image/png": "[encoded data removed]",
            "text/plain": [
              "<PIL.Image.Image image mode=L size=252x28 at 0x7F58F1C5B518>"
            ]
          },
          "metadata": {
            "tags": []
          }
        },
        {
          "output_type": "stream",
          "text": [
            "Roll_No : 142050065\n",
            "[['Pankaj Kumar', '193050065']]\n"
          ],
          "name": "stdout"
        }
      ]
    },
    {
      "cell_type": "code",
      "metadata": {
        "id": "9E9o88avVEgY",
        "colab_type": "code",
        "colab": {
          "base_uri": "https://localhost:8080/",
          "height": 137
        },
        "outputId": "f2274d68-05b2-4039-8463-8a2971a22ca8"
      },
      "source": [
        "''' This code was intended to find the regions with all the boxes. i.e. should find the Roll_no region and Name region separately'''\n",
        "\n",
        "\"\"\"\n",
        "img = cv2.imread(files[0],0)\n",
        "h, w = img.shape[:2]\n",
        "kernel = np.ones((15,15),np.uint8)\n",
        "\n",
        "e = cv2.erode(img,kernel,iterations = 2)  \n",
        "d = cv2.dilate(e,kernel,iterations = 1)\n",
        "ret, th = cv2.threshold(d, 150, 255, cv2.THRESH_BINARY_INV)\n",
        "\n",
        "mask = np.zeros((h+2, w+2), np.uint8)\n",
        "cv2.floodFill(th, mask, (100,100), 255); # position = (200,200)\n",
        "out = cv2.bitwise_not(th)\n",
        "out= cv2.dilate(out,kernel,iterations = 3)\n",
        "cnt, h = cv2.findContours(out,cv2.RETR_TREE,cv2.CHAIN_APPROX_SIMPLE)\n",
        "\n",
        "for i in range(len(cnt)):\n",
        "            area = cv2.contourArea(cnt[i])\n",
        "            if(area>10000):\n",
        "                  print(\"here\")\n",
        "                  mask = np.zeros_like(img)\n",
        "                  cv2.drawContours(mask, cnt, i, 255, -1)\n",
        "                  x,y,w,h = cv2.boundingRect(cnt[i])\n",
        "                  crop= img[ y:h+y,x:w+x]\n",
        "                  cv2_imshow(crop )\n",
        "\n",
        "# cv2.destroyAllWindows()\n",
        "\"\"\"\n"
      ],
      "execution_count": 91,
      "outputs": [
        {
          "output_type": "execute_result",
          "data": {
            "application/vnd.google.colaboratory.intrinsic": {
              "type": "string"
            },
            "text/plain": [
              "'\\nimg = cv2.imread(files[0],0)\\nh, w = img.shape[:2]\\nkernel = np.ones((15,15),np.uint8)\\n\\ne = cv2.erode(img,kernel,iterations = 2)  \\nd = cv2.dilate(e,kernel,iterations = 1)\\nret, th = cv2.threshold(d, 150, 255, cv2.THRESH_BINARY_INV)\\n\\nmask = np.zeros((h+2, w+2), np.uint8)\\ncv2.floodFill(th, mask, (100,100), 255); # position = (200,200)\\nout = cv2.bitwise_not(th)\\nout= cv2.dilate(out,kernel,iterations = 3)\\ncnt, h = cv2.findContours(out,cv2.RETR_TREE,cv2.CHAIN_APPROX_SIMPLE)\\n\\nfor i in range(len(cnt)):\\n            area = cv2.contourArea(cnt[i])\\n            if(area>10000):\\n                  print(\"here\")\\n                  mask = np.zeros_like(img)\\n                  cv2.drawContours(mask, cnt, i, 255, -1)\\n                  x,y,w,h = cv2.boundingRect(cnt[i])\\n                  crop= img[ y:h+y,x:w+x]\\n                  cv2_imshow(crop )\\n\\n# cv2.destroyAllWindows()\\n'"
            ]
          },
          "metadata": {
            "tags": []
          },
          "execution_count": 91
        }
      ]
    },
    {
      "cell_type": "code",
      "metadata": {
        "id": "dxZjfgYedYk_",
        "colab_type": "code",
        "colab": {
          "base_uri": "https://localhost:8080/",
          "height": 187
        },
        "outputId": "c61f20ab-db6c-4846-ae19-dcf365e64f1a"
      },
      "source": [
        "import numpy as np  \n",
        "x = [[1, 3, 2, 5, 4], [1, 3, 2, 5, 4],[1, 3, 2, 5, 4],[1, 3, 2, 5, 4]]\n",
        "y = np.pad(array=x, pad_width=3, mode='constant', constant_values=0)  \n",
        "print (y)"
      ],
      "execution_count": 92,
      "outputs": [
        {
          "output_type": "stream",
          "text": [
            "[[0 0 0 0 0 0 0 0 0 0 0]\n",
            " [0 0 0 0 0 0 0 0 0 0 0]\n",
            " [0 0 0 0 0 0 0 0 0 0 0]\n",
            " [0 0 0 1 3 2 5 4 0 0 0]\n",
            " [0 0 0 1 3 2 5 4 0 0 0]\n",
            " [0 0 0 1 3 2 5 4 0 0 0]\n",
            " [0 0 0 1 3 2 5 4 0 0 0]\n",
            " [0 0 0 0 0 0 0 0 0 0 0]\n",
            " [0 0 0 0 0 0 0 0 0 0 0]\n",
            " [0 0 0 0 0 0 0 0 0 0 0]]\n"
          ],
          "name": "stdout"
        }
      ]
    }
  ]
}